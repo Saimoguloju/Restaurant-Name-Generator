{
 "cells": [
  {
   "cell_type": "code",
   "execution_count": 1,
   "id": "d56b3171",
   "metadata": {},
   "outputs": [],
   "source": [
    "from langchain_groq import ChatGroq\n",
    "\n",
    "import warnings\n",
    "warnings.filterwarnings('ignore')\n",
    "\n",
    "# Initialize the model with parameters\n",
    "llm = ChatGroq(\n",
    "    model_name=\"llama-3.2-90b-text-preview\",  \n",
    "    temperature=0,\n",
    "    groq_api_key=\"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\"\n",
    ")"
   ]
  },
  {
   "cell_type": "code",
   "execution_count": 2,
   "id": "551f4dd2",
   "metadata": {},
   "outputs": [
    {
     "name": "stdout",
     "output_type": "stream",
     "text": [
      "Here are some fancy name suggestions for your Italian restaurant:\n",
      "\n",
      "1. **Bella Vita** (Beautiful Life) - a classic Italian phrase that evokes a sense of elegance and sophistication.\n",
      "2. **Casa Italia** (Italian House) - a name that transports customers to the heart of Italy.\n",
      "3. **Fiorella's** (Little Flower) - a charming name that adds a touch of whimsy and romance.\n",
      "4. **La Dolce Vita** (The Sweet Life) - a name that captures the essence of Italian cuisine and culture.\n",
      "5. **Vino e Vita** (Wine and Life) - a name that highlights the importance of wine in Italian culture.\n",
      "6. **Tavola Italiana** (Italian Table) - a name that emphasizes the warmth and hospitality of Italian dining.\n",
      "7. **Cucina Classica** (Classic Kitchen) - a name that suggests a commitment to traditional Italian cuisine.\n",
      "8. **Bistro Italiano** (Italian Bistro) - a name that conveys a sense of casual elegance and sophistication.\n",
      "9. **La Cucina di Nonna** (Grandmother's Kitchen) - a name that evokes a sense of warmth and nostalgia.\n",
      "10. **Il Palazzo** (The Palace) - a name that suggests a grand and luxurious dining experience.\n",
      "\n",
      "Choose the one that resonates with your vision and style, and buon appetito!\n"
     ]
    }
   ],
   "source": [
    "response = llm.invoke(\"I want to open a restaurant for italian food. suggest a fency name for this.\")\n",
    "print(response.content)"
   ]
  },
  {
   "cell_type": "code",
   "execution_count": 3,
   "id": "b85ffeb0",
   "metadata": {},
   "outputs": [
    {
     "data": {
      "text/plain": [
       "'I want to open a restaurant for Mexican food. suggest a fency name for this.'"
      ]
     },
     "execution_count": 3,
     "metadata": {},
     "output_type": "execute_result"
    }
   ],
   "source": [
    "from langchain.prompts import PromptTemplate\n",
    "\n",
    "prompt_template_name = PromptTemplate(\n",
    "    input_variables = ['cuisine'],\n",
    "    template = \"I want to open a restaurant for {cuisine} food. suggest a fency name for this.\"\n",
    ")\n",
    "prompt_template_name.format(cuisine=\"Mexican\")"
   ]
  },
  {
   "cell_type": "code",
   "execution_count": 4,
   "id": "f59b3a99",
   "metadata": {},
   "outputs": [
    {
     "name": "stderr",
     "output_type": "stream",
     "text": [
      "C:\\Users\\Saimo\\AppData\\Local\\Temp\\ipykernel_5920\\4030991619.py:3: LangChainDeprecationWarning: The class `LLMChain` was deprecated in LangChain 0.1.17 and will be removed in 1.0. Use :meth:`~RunnableSequence, e.g., `prompt | llm`` instead.\n",
      "  chain = LLMChain(llm=llm,prompt=prompt_template_name)\n",
      "C:\\Users\\Saimo\\AppData\\Local\\Temp\\ipykernel_5920\\4030991619.py:4: LangChainDeprecationWarning: The method `Chain.run` was deprecated in langchain 0.1.0 and will be removed in 1.0. Use :meth:`~invoke` instead.\n",
      "  chain.run(\"American\")\n"
     ]
    },
    {
     "data": {
      "text/plain": [
       "'Here are some fancy name suggestions for your American restaurant:\\n\\n1. **Liberty Bites**: This name combines the idea of American freedom with a playful twist on the word \"bites,\" implying delicious food.\\n2. **Starlight Grill**: This name evokes the idea of American nostalgia and the classic grill, with a touch of elegance.\\n3. **Patriot\\'s Table**: This name conveys a sense of American pride and tradition, with a focus on gathering around the table.\\n4. **Red, White, & Bistro**: This name incorporates the American flag colors and adds a touch of sophistication with the word \"bistro.\"\\n5. **The American Parlor**: This name suggests a warm, inviting atmosphere and a focus on classic American comfort food.\\n6. **Freedom Fare**: This name combines the idea of American freedom with a focus on delicious, satisfying food.\\n7. **The Yankee Kitchen**: This name incorporates a classic American term (\"Yankee\") and emphasizes the idea of a warm, welcoming kitchen.\\n8. **All-American Eats**: This name is straightforward and emphasizes the idea of classic American cuisine.\\n9. **The Liberty Room**: This name suggests a sense of elegance and sophistication, with a focus on American tradition.\\n10. **The American Table**: This name is simple and straightforward, emphasizing the idea of gathering around the table to enjoy delicious American food.\\n\\nChoose the one that resonates with your vision and style.'"
      ]
     },
     "execution_count": 4,
     "metadata": {},
     "output_type": "execute_result"
    }
   ],
   "source": [
    "from langchain.chains import LLMChain\n",
    "\n",
    "chain = LLMChain(llm=llm,prompt=prompt_template_name)\n",
    "chain.run(\"American\")"
   ]
  },
  {
   "cell_type": "code",
   "execution_count": 5,
   "id": "fba306ea",
   "metadata": {},
   "outputs": [],
   "source": [
    "prompt_template_name = PromptTemplate(\n",
    "    input_variables = ['cuisine'],\n",
    "    template = \"I want to open a restaurant for {cuisine} food. suggest a fency name for this.\"\n",
    ")\n",
    "\n",
    "name_chain = LLMChain(llm=llm,prompt=prompt_template_name)\n",
    "\n",
    "prompt_template_name = PromptTemplate(\n",
    "    input_variables = ['cuisine'],\n",
    "    template = \"Suggest some menu items for {restaurant_name}. Return it as a comma separated value.\"\n",
    ")\n",
    "food_items_chain = LLMChain(llm=llm,prompt=prompt_template_name)"
   ]
  },
  {
   "cell_type": "code",
   "execution_count": 6,
   "id": "8ac7938c",
   "metadata": {},
   "outputs": [
    {
     "name": "stdout",
     "output_type": "stream",
     "text": [
      "El Patio de Oro, Casa de las Estrellas, La Hacienda de los Sueños, El Jardín de las Delicias, Villa Azul, La Casa de la Abuela, El Palacio de la Vida, La Terraza de los Dioses\n"
     ]
    }
   ],
   "source": [
    "from langchain.chains import SimpleSequentialChain\n",
    "\n",
    "chain = SimpleSequentialChain(chains = [name_chain, food_items_chain])\n",
    "response = chain.run(\"Mexican\")\n",
    "print(response)"
   ]
  },
  {
   "cell_type": "code",
   "execution_count": 7,
   "id": "5baa2c99",
   "metadata": {},
   "outputs": [],
   "source": [
    "# Define the prompt template for suggesting a restaurant name\n",
    "prompt_template_name = PromptTemplate(\n",
    "    input_variables=['cuisine'],\n",
    "    template=\"I want to open a restaurant for {cuisine} food. Suggest a fancy name for this.\"\n",
    ")\n",
    "\n",
    "# Create the first LLM chain for generating a restaurant name\n",
    "name_chain = LLMChain(llm=llm, prompt=prompt_template_name, output_key=\"restaurant_name\")\n",
    "\n",
    "# Define the prompt template for suggesting menu items based on the restaurant name\n",
    "prompt_template_items = PromptTemplate(\n",
    "    input_variables=['restaurant_name'],\n",
    "    template=\"Suggest some menu items for {restaurant_name}.\"\n",
    ")\n",
    "\n",
    "# Create the second LLM chain for generating menu items\n",
    "food_items_chain = LLMChain(llm=llm, prompt=prompt_template_items, output_key=\"menu_items\")\n"
   ]
  },
  {
   "cell_type": "code",
   "execution_count": 8,
   "id": "ec8d99db",
   "metadata": {},
   "outputs": [
    {
     "name": "stderr",
     "output_type": "stream",
     "text": [
      "C:\\Users\\Saimo\\AppData\\Local\\Temp\\ipykernel_5920\\3790582669.py:8: LangChainDeprecationWarning: The method `Chain.__call__` was deprecated in langchain 0.1.0 and will be removed in 1.0. Use :meth:`~invoke` instead.\n",
      "  chain({'cuisine' : 'Arabic'})\n"
     ]
    },
    {
     "data": {
      "text/plain": [
       "{'cuisine': 'Arabic',\n",
       " 'restaurant_name': 'Here are some fancy name suggestions for your Arabic restaurant:\\n\\n1. **Al Qasr** (The Palace) - evoking the grandeur and luxury of Arabic palaces.\\n2. **Mashawi Al Sham** (The Levant Grill) - highlighting the rich flavors of the Levant region.\\n3. **Aladdin\\'s Table** - inspired by the legendary tale of Aladdin, conveying a sense of magic and wonder.\\n4. **Sahara Nights** - transporting customers to the enchanting world of the Arabian desert.\\n5. **Dar Al Sultan** (The Sultan\\'s House) - conveying a sense of opulence and hospitality.\\n6. **Al Firdaus** (The Paradise) - suggesting a culinary haven that\\'s a taste of paradise.\\n7. **Bait Al Arabi** (The Arabic House) - emphasizing the warm hospitality and rich culture of the Arab world.\\n8. **Zahra\\'s Kitchen** - named after the Arabic word for \"blooming flower,\" implying a vibrant and flavorful dining experience.\\n9. **Al Khayma** (The Tent) - inspired by the traditional Arabic tent, conveying a sense of warmth and gathering.\\n10. **Madinat Al Tayyib** (The City of Goodness) - suggesting a culinary journey through the rich flavors and aromas of the Arab world.\\n\\nChoose a name that reflects your vision and style, and that will appeal to your target audience.',\n",
       " 'menu_items': \"Based on the provided options, I'll choose **Al Qasr** (The Palace) as the name for the Arabic restaurant. This name evokes the grandeur and luxury of Arabic palaces, suggesting a high-end dining experience.\\n\\nHere are some menu item suggestions for **Al Qasr**:\\n\\n**Appetizers**\\n\\n1. **Falafel Al Qasr** - Crispy falafel served with a side of creamy tahini sauce and fresh parsley ($8)\\n2. **Hummus Al Sultan** - Classic hummus topped with sumac and served with warm pita bread ($7)\\n3. **Kibbeh Al Sham** - Pan-seared kibbeh filled with spiced ground meat and served with a side of tangy yogurt sauce ($10)\\n4. **Tabbouleh Al Qasr** - Fresh parsley salad with bulgur, tomatoes, and mint, topped with crispy sumac onions ($9)\\n\\n**Main Courses**\\n\\n1. **Shawarma Al Qasr** - Juicy lamb shawarma served in a warm pita with tomato, onion, and tahini sauce ($15)\\n2. **Machboos Al Sultan** - Saffron-infused rice with slow-cooked lamb and a side of steamed vegetables ($22)\\n3. **Kabsa Al Qasr** - Traditional Saudi dish with mixed rice, chicken, and spices, served with a side of cucumber yogurt sauce ($20)\\n4. **Grilled Lamb Chops Al Qasr** - Tender lamb chops marinated in a blend of Arabic spices and grilled to perfection ($25)\\n\\n**Desserts**\\n\\n1. **Baklava Al Qasr** - Layered phyllo pastry with nuts and honey, served with a side of cardamom coffee ($8)\\n2. **Kunafeh Al Sultan** - Shredded phyllo pastry with cheese and syrup, served with a side of rose water ($10)\\n3. **Muhallebi Al Qasr** - Creamy rice pudding with rose water and pistachios ($8)\\n4. **Ghoriba Al Qasr** - Traditional Arabic shortbread cookies with cardamom and rose water ($6)\\n\\n**Beverages**\\n\\n1. **Arabic Coffee** - Strong coffee made with cardamom and served in a traditional Arabic cup ($4)\\n2. **Mint Tea Al Qasr** - Refreshing mint tea served with a touch of sugar ($4)\\n3. **Jallab Al Sultan** - Traditional Arabic drink made with dates, molasses, and rose water ($5)\\n4. **Sahlab Al Qasr** - Creamy milk drink with orchid root and sugar ($5)\\n\\n**Specials**\\n\\n1. **Al Qasr Platter** - A selection of appetizers, including falafel, hummus, and kibbeh ($25)\\n2. **Sultan's Feast** - A three-course meal featuring shawarma, machboos, and baklava ($40)\\n3. **Arabic Brunch** - A weekend brunch featuring a selection of Arabic dishes, including shawarma, falafel, and kunafeh ($30)\"}"
      ]
     },
     "execution_count": 8,
     "metadata": {},
     "output_type": "execute_result"
    }
   ],
   "source": [
    "from langchain.chains import SequentialChain\n",
    "\n",
    "chain = SequentialChain(\n",
    "    chains = [name_chain,food_items_chain],\n",
    "    input_variables = ['cuisine'],\n",
    "    output_variables = ['restaurant_name','menu_items']\n",
    ")\n",
    "chain({'cuisine' : 'Arabic'})"
   ]
  },
  {
   "cell_type": "code",
   "execution_count": null,
   "id": "14486395",
   "metadata": {},
   "outputs": [],
   "source": []
  }
 ],
 "metadata": {
  "kernelspec": {
   "display_name": "Python 3 (ipykernel)",
   "language": "python",
   "name": "python3"
  },
  "language_info": {
   "codemirror_mode": {
    "name": "ipython",
    "version": 3
   },
   "file_extension": ".py",
   "mimetype": "text/x-python",
   "name": "python",
   "nbconvert_exporter": "python",
   "pygments_lexer": "ipython3",
   "version": "3.10.9"
  }
 },
 "nbformat": 4,
 "nbformat_minor": 5
}
